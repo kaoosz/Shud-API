{
 "cells": [
  {
   "cell_type": "code",
   "execution_count": null,
   "metadata": {},
   "outputs": [],
   "source": [
    "import requests\n",
    "import pandas as pd\n",
    "\n",
    "headers = {\n",
    "    'Accept': 'application/json',\n",
    "    'Content-Type': 'application/json',\n",
    "}\n",
    "\n",
    "\n",
    "url = \"http://127.0.0.1:8000/api/candidatos/candidatos?urna=MARCELO ARO&NR_CANDIDATO=3133&ANO=2018\"\n",
    "\n",
    "response = requests.request(\"GET\", url, headers=headers)\n",
    "\n",
    "data = response.json()\n",
    "print(data)\n",
    "\n",
    "params = {\n",
    "    'urna':'MARCELO ARO',\n",
    "    'bairro':'bairro2018',\n",
    "    'ANO':'2018',\n",
    "    'NR_CANDIDATO':'3133',\n",
    "}\n",
    "coll = [\n",
    "            \"NM_VOTAVEL\",\n",
    "            \"NR_VOTAVEL\",\n",
    "            \"ANO_ELEICAO\",\n",
    "            \"DS_CARGO_PERGUNTA\",\n",
    "            \"NM_MUNICIPIO\",\n",
    "            \"NM_BAIRRO\",\n",
    "            \"QT_VOTOS\",\n",
    "        ]\n",
    "\n",
    "\n",
    "if 'data' in data:\n",
    "    data = data['data']\n",
    "\n",
    "df = pd.DataFrame(data)\n",
    "# df = pd.DataFrame(data[0]['bairro2018'])\n",
    "df.to_csv('tonin.csv')\n",
    "\n",
    "# df_agrupado = df.groupby([\"NM_BAIRRO\"]).asc()\n",
    "# df = pd.DataFrame(response['data'],columns=['bairro2018'])\n",
    "# df.head()\n",
    "# df.shape\n",
    "# df['bairro2018']\n",
    "\n",
    "##df.to_csv('testing.csv')\n",
    "\n",
    "\n",
    "\n",
    "\n",
    "\n",
    "\n"
   ]
  },
  {
   "cell_type": "code",
   "execution_count": null,
   "metadata": {},
   "outputs": [],
   "source": [
    "import http.client\n",
    "import json\n",
    "\n",
    "connection = http.client.HTTPSConnection('http://localhost:8000/api/candidatos/candidatos?urna=MARCELO ARO&NR_CANDIDATO=3133&ANO=2018')\n",
    "\n",
    "headers = {'Content-type': 'application/json'}\n",
    "\n",
    "connection.request('GET','/markdown',headers=headers)"
   ]
  }
 ],
 "metadata": {
  "kernelspec": {
   "display_name": "Python 3.10.5 64-bit",
   "language": "python",
   "name": "python3"
  },
  "language_info": {
   "codemirror_mode": {
    "name": "ipython",
    "version": 3
   },
   "file_extension": ".py",
   "mimetype": "text/x-python",
   "name": "python",
   "nbconvert_exporter": "python",
   "pygments_lexer": "ipython3",
   "version": "3.10.5"
  },
  "orig_nbformat": 4,
  "vscode": {
   "interpreter": {
    "hash": "7c91588d6190c69b63dd09eaf23942c5e8f5f7afa58844d8683e6c1231cce62b"
   }
  }
 },
 "nbformat": 4,
 "nbformat_minor": 2
}
